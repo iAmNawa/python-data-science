{
 "cells": [
  {
   "cell_type": "code",
   "execution_count": 18,
   "metadata": {},
   "outputs": [
    {
     "name": "stdout",
     "output_type": "stream",
     "text": [
      "<__main__.PlayerCharacter object at 0x10bbce640>\n",
      "Paul\n",
      "33\n",
      "True\n",
      "run\n",
      "20\n",
      "14\n"
     ]
    }
   ],
   "source": [
    "class PlayerCharacter:\n",
    "    membership = True\n",
    "    def __init__(self, name, age):\n",
    "        self.name = name\n",
    "        self.age = age\n",
    "        \n",
    "    def run(self):\n",
    "        print('run')\n",
    "        \n",
    "    #@classmethod\n",
    "    #def adding_things(cls, num1, num2):\n",
    "    #    return num1 + num2\n",
    "    \n",
    "    @staticmethod\n",
    "    def adding_things(num1, num2):\n",
    "        return num1 + num2\n",
    "    \n",
    "        \n",
    "player1 = PlayerCharacter('Paul', 33)\n",
    "print(player1)\n",
    "print(player1.name)\n",
    "print(player1.age)\n",
    "print(player1.membership)\n",
    "player1.run()\n",
    "print(player1.adding_things(10,10))\n",
    "\n",
    "print(PlayerCharacter.adding_things(7,7))"
   ]
  },
  {
   "cell_type": "code",
   "execution_count": 14,
   "metadata": {},
   "outputs": [
    {
     "name": "stdout",
     "output_type": "stream",
     "text": [
      "The oldest cat is 33 years old\n"
     ]
    }
   ],
   "source": [
    "#Given the below class:\n",
    "class Cat:\n",
    "    species = 'mammal'\n",
    "    def __init__(self, name, age):\n",
    "        self.name = name\n",
    "        self.age = age\n",
    "\n",
    "\n",
    "# 1 Instantiate the Cat object with 3 cats\n",
    "cat1 = Cat('Pauly', 33)\n",
    "cat2 = Cat('Carl', 25)\n",
    "cat3 = Cat('Dave', 27)\n",
    "\n",
    "\n",
    "# 2 Create a function that finds the oldest cat\n",
    "def get_oldest_cat(*args):\n",
    "    return max(args)\n",
    "\n",
    "\n",
    "# 3 Print out: \"The oldest cat is x years old.\". x will be the oldest cat age by using the function in #2\n",
    "print(f\"The oldest cat is {get_oldest_cat(cat1.age, cat2.age, cat3.age)} years old\")"
   ]
  },
  {
   "cell_type": "code",
   "execution_count": 46,
   "metadata": {},
   "outputs": [
    {
     "name": "stdout",
     "output_type": "stream",
     "text": [
      "attacking with power of 50\n",
      "attacking with arrows: arrows left - 100\n"
     ]
    }
   ],
   "source": [
    "class User:\n",
    "    def sign_in(self):\n",
    "        print('logged in')\n",
    "        \n",
    "class Wizard(User):\n",
    "    def __init__(self, name, power):\n",
    "        self.name = name\n",
    "        self.power = power\n",
    "\n",
    "    def attack(self):\n",
    "        print(f'attacking with power of {self.power}')\n",
    "        \n",
    "class Archer(User):\n",
    "    def __init__(self, name, num_arrows):\n",
    "        self.name = name\n",
    "        self.num_arrows = num_arrows\n",
    "        \n",
    "    def attack(self):\n",
    "        print(f'attacking with arrows: arrows left - {self.num_arrows}')\n",
    "\n",
    "wizard1 = Wizard('Merlin', 50)\n",
    "archer1 = Archer('Robin', 100)\n",
    "\n",
    "def player_attack(char):\n",
    "    char.attack()\n",
    "    \n",
    "for char in [wizard1, archer1]:\n",
    "    char.attack()"
   ]
  },
  {
   "cell_type": "code",
   "execution_count": null,
   "metadata": {},
   "outputs": [],
   "source": []
  }
 ],
 "metadata": {
  "kernelspec": {
   "display_name": "Python 3",
   "language": "python",
   "name": "python3"
  },
  "language_info": {
   "codemirror_mode": {
    "name": "ipython",
    "version": 3
   },
   "file_extension": ".py",
   "mimetype": "text/x-python",
   "name": "python",
   "nbconvert_exporter": "python",
   "pygments_lexer": "ipython3",
   "version": "3.8.0"
  }
 },
 "nbformat": 4,
 "nbformat_minor": 4
}
