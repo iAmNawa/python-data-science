{
 "cells": [
  {
   "cell_type": "code",
   "execution_count": null,
   "id": "69a55bf2",
   "metadata": {},
   "outputs": [],
   "source": [
    "# regression toward the mean is a concept that refers to the fact that if one sample of a random variable is extreme, \n",
    "# the next sampling of the same random variable is likely to be closer to its mean."
   ]
  },
  {
   "cell_type": "code",
   "execution_count": 1,
   "id": "593cf811",
   "metadata": {},
   "outputs": [],
   "source": [
    "# linear regression has a goal of minimizing the distance between the prediction line and all of the data points"
   ]
  },
  {
   "cell_type": "code",
   "execution_count": 2,
   "id": "61aa15e8",
   "metadata": {},
   "outputs": [],
   "source": [
    "# least squares method - fitted by minimizing the sum of squares of the residuals"
   ]
  },
  {
   "cell_type": "code",
   "execution_count": 3,
   "id": "a49b8535",
   "metadata": {},
   "outputs": [],
   "source": [
    "from sklearn.model_selection import train_test_split"
   ]
  },
  {
   "cell_type": "code",
   "execution_count": null,
   "id": "b1521e11",
   "metadata": {},
   "outputs": [],
   "source": []
  }
 ],
 "metadata": {
  "kernelspec": {
   "display_name": "Python 3 (ipykernel)",
   "language": "python",
   "name": "python3"
  },
  "language_info": {
   "codemirror_mode": {
    "name": "ipython",
    "version": 3
   },
   "file_extension": ".py",
   "mimetype": "text/x-python",
   "name": "python",
   "nbconvert_exporter": "python",
   "pygments_lexer": "ipython3",
   "version": "3.9.7"
  }
 },
 "nbformat": 4,
 "nbformat_minor": 5
}
